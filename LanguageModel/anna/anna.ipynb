{
 "cells": [
  {
   "cell_type": "code",
   "execution_count": 1,
   "metadata": {
    "collapsed": true
   },
   "outputs": [],
   "source": [
    "import time\n",
    "from collections import namedtuple\n",
    "import numpy as np\n",
    "import tensorflow as tf"
   ]
  },
  {
   "cell_type": "code",
   "execution_count": 3,
   "metadata": {
    "collapsed": true
   },
   "outputs": [
    {
     "name": "stdout",
     "output_type": "stream",
     "text": [
      "Chapter 1\n\n\nHappy families are all alike; every unhappy family is unhappy in its own\nway.\n\nEverythin\nencode\n [73 70 80 38 33 79  3 26 58  8  8  8 65 80 38 38 43 26 47 80 21 48 55 48 79\n 59 26 80  3 79 26 80 55 55 26 80 55 48  0 79 53 26 79 23 79  3 43 26 13 17\n 70 80 38 38 43 26 47 80 21 48 55 43 26 48 59 26 13 17 70 80 38 38 43 26 48\n 17 26 48 33 59 26 71 24 17  8 24 80 43 54  8  8 74 23 79  3 43 33 70 48 17]\n"
     ]
    }
   ],
   "source": [
    "# coding=utf-8\n",
    "file_path = '/Users/li/workshop/MyRepository/DeepNaturalLanguageProcessing/DeepNLP/language_model/anna/data/anna.txt'\n",
    "with open(file_path, 'r') as f:\n",
    "    text = f.read()\n",
    "\n",
    "vocab = set(text)\n",
    "# print(vocab)\n",
    "# 字符数字映射\n",
    "vocab_to_int = {c: i for i, c in enumerate(vocab)}\n",
    "# print(vocab_to_int)\n",
    "# 数字字符映射\n",
    "int_to_vocab = dict(enumerate(vocab))\n",
    "# print(int_to_vocab)\n",
    "\n",
    "# 对文本进行编码\n",
    "encode = np.array([vocab_to_int[c] for c in text], dtype=np.int32)\n",
    "print(text[:100])\n",
    "print('encode\\n', encode[:100])"
   ]
  },
  {
   "cell_type": "code",
   "execution_count": null,
   "metadata": {},
   "outputs": [
    {
     "name": "stdout",
     "output_type": "stream",
     "text": [
      "arr_a\n [[61 65 40 67 23 72 75 44 48  6  6  6  1 40 67]\n [44 40 37 44 54 31 23 44 58 31 50 54 58 44 23]\n [69 50 54 66  6  6 71  0 72 68 80 44 50 23  5]\n [54 44 62 16 75 50 54 58 44 65 50 68 44 49 31]\n [44 50 23 44 50 68 80 44 68 50 75 19 71 44 68]\n [44 73 23 44 32 40 68  6 31 54  3 36 44 32 65]\n [65 72 54 44 49 31 37 72 44 46 31 75 44 37 72]\n [ 7 44 79 16 23 44 54 31 32 44 68 65 72 44 32]\n [23 44 50 68 54  5 23 66 44 22 65 72 36  5 75]\n [44 68 40 50 62 44 23 31 44 65 72 75 68 72  3]]\nx.shape (10, 50)\nx [[61 65 40 67 23 72 75 44 48  6]\n [44 40 37 44 54 31 23 44 58 31]\n [69 50 54 66  6  6 71  0 72 68]\n [54 44 62 16 75 50 54 58 44 65]\n [44 50 23 44 50 68 80 44 68 50]\n [44 73 23 44 32 40 68  6 31 54]\n [65 72 54 44 49 31 37 72 44 46]\n [ 7 44 79 16 23 44 54 31 32 44]\n [23 44 50 68 54  5 23 66 44 22]\n [44 68 40 50 62 44 23 31 44 65]]\ny.shape (10, 50)\ny [[65 40 67 23 72 75 44 48  6  6]\n [40 37 44 54 31 23 44 58 31 50]\n [50 54 66  6  6 71  0 72 68 80]\n [44 62 16 75 50 54 58 44 65 50]\n [50 23 44 50 68 80 44 68 50 75]\n [73 23 44 32 40 68  6 31 54  3]\n [72 54 44 49 31 37 72 44 46 31]\n [44 79 16 23 44 54 31 32 44 68]\n [44 50 68 54  5 23 66 44 22 65]\n [68 40 50 62 44 23 31 44 65 72]]\n"
     ]
    }
   ],
   "source": [
    "def generate_bath(arr, batch_size, seq_length):\n",
    "    num_steps = batch_size * seq_length\n",
    "    # print('num_steps', num_steps)\n",
    "    n_iters = int(len(arr) / num_steps)\n",
    "    # print('num_iters', n_iters)\n",
    "    arr = arr[: num_steps * n_iters]\n",
    "    # print('arr_b', arr[:,:15])\n",
    "    # 重塑\n",
    "    arr = arr.reshape((batch_size, -1))\n",
    "    print('arr_a\\n',arr[:,:15])\n",
    "    # print(arr.shape[1])\n",
    "\n",
    "    for n in range(0, arr.shape[1], seq_length):\n",
    "        x = arr[:, n:n + seq_length]\n",
    "        y = np.zeros_like(x)\n",
    "        y[:, :-1], y[:, -1] = x[:, 1:], x[:, 0]\n",
    "        yield x, y\n",
    "\n",
    "batches = generate_bath(encode, 10, 50)\n",
    "x, y = next(batches)\n",
    "print('x.shape', np.shape(x))\n",
    "print('x', x[:10, :10])\n",
    "print('y.shape', np.shape(y))\n",
    "print('y', y[:10, :10])"
   ]
  },
  {
   "cell_type": "code",
   "execution_count": 6,
   "metadata": {},
   "outputs": [],
   "source": [
    "def build_inputs(num_seqs, num_steps):\n",
    "    '''\n",
    "    构建输入层\n",
    "\n",
    "    num_seqs: 每个batch中的序列个数\n",
    "    num_steps: 每个序列包含的字符数\n",
    "    '''\n",
    "    inputs = tf.placeholder(tf.int32, shape=(num_seqs, num_steps), name='inputs')\n",
    "    targets = tf.placeholder(tf.int32, shape=(num_seqs, num_steps), name='targets')\n",
    "\n",
    "    # 加入keep_prob\n",
    "    keep_prob = tf.placeholder(tf.float32, name='keep_prob')\n",
    "\n",
    "    return inputs, targets, keep_prob"
   ]
  },
  {
   "cell_type": "code",
   "execution_count": 7,
   "metadata": {},
   "outputs": [],
   "source": [
    "def build_lstm(lstm_size, num_layers, batch_size, keep_prob):\n",
    "    '''\n",
    "    构建lstm层\n",
    "\n",
    "    keep_prob\n",
    "    lstm_size: lstm隐层中结点数目\n",
    "    num_layers: lstm的隐层数目\n",
    "    batch_size: batch_size\n",
    "\n",
    "    '''\n",
    "    # 构建一个基本lstm单元\n",
    "    cell = tf.contrib.rnn.BasicLSTMCell(lstm_size)\n",
    "\n",
    "    # 添加dropout\n",
    "    # drop = tf.contrib.rnn.DropoutWrapper(lstm, output_keep_prob=keep_prob)\n",
    "\n",
    "    # 堆叠\n",
    "    # cell = tf.contrib.rnn.MultiRNNCell([drop for _ in range(num_layers)])\n",
    "    initial_state = cell.zero_state(batch_size, tf.float32)\n",
    "\n",
    "    return cell, initial_state"
   ]
  },
  {
   "cell_type": "code",
   "execution_count": 8,
   "metadata": {},
   "outputs": [],
   "source": [
    "def build_output(lstm_output, in_size, out_size):\n",
    "    '''\n",
    "    构造输出层\n",
    "\n",
    "    lstm_output: lstm层的输出结果\n",
    "    in_size: lstm输出层重塑后的size\n",
    "    out_size: softmax层的size\n",
    "\n",
    "    '''\n",
    "\n",
    "    # 将lstm的输出按照列concate，例如[[1,2,3],[7,8,9]],\n",
    "    # tf.concat的结果是[1,2,3,7,8,9]\n",
    "    seq_output = tf.concat(lstm_output, axis=1)  # tf.concat(concat_dim, values)\n",
    "    # reshape\n",
    "    x = tf.reshape(seq_output, [-1, in_size])\n",
    "\n",
    "    # 将lstm层与softmax层全连接\n",
    "    with tf.variable_scope('softmax'):\n",
    "        softmax_w = tf.Variable(tf.truncated_normal([in_size, out_size], stddev=0.1))\n",
    "        softmax_b = tf.Variable(tf.zeros(out_size))\n",
    "\n",
    "    # 计算logits\n",
    "    logits = tf.matmul(x, softmax_w) + softmax_b\n",
    "\n",
    "    # softmax层返回概率分布\n",
    "    out = tf.nn.softmax(logits, name='predictions')\n",
    "\n",
    "    return out, logits"
   ]
  },
  {
   "cell_type": "code",
   "execution_count": 9,
   "metadata": {},
   "outputs": [],
   "source": [
    "def build_loss(logits, targets, lstm_size, num_classes):\n",
    "    '''\n",
    "    根据logits和targets计算损失\n",
    "\n",
    "    logits: 全连接层的输出结果（不经过softmax）\n",
    "    targets: targets\n",
    "    lstm_size\n",
    "    num_classes: vocab_size\n",
    "\n",
    "    '''\n",
    "\n",
    "    # One-hot编码\n",
    "    y_one_hot = tf.one_hot(targets, num_classes)\n",
    "    y_reshaped = tf.reshape(y_one_hot, logits.get_shape())\n",
    "\n",
    "    # Softmax cross entropy loss\n",
    "    loss = tf.nn.softmax_cross_entropy_with_logits(logits=logits, labels=y_reshaped)\n",
    "    loss = tf.reduce_mean(loss)\n",
    "\n",
    "    return loss"
   ]
  },
  {
   "cell_type": "code",
   "execution_count": 10,
   "metadata": {},
   "outputs": [],
   "source": [
    "def build_optimizer(loss, learning_rate, grad_clip):\n",
    "    '''\n",
    "    构造Optimizer\n",
    "\n",
    "    loss: 损失\n",
    "    learning_rate: 学习率\n",
    "\n",
    "    '''\n",
    "\n",
    "    # 使用clipping gradients\n",
    "    tvars = tf.trainable_variables()\n",
    "    grads, _ = tf.clip_by_global_norm(tf.gradients(loss, tvars), grad_clip)\n",
    "    train_op = tf.train.AdamOptimizer(learning_rate)\n",
    "    optimizer = train_op.apply_gradients(zip(grads, tvars))\n",
    "\n",
    "    return optimizer"
   ]
  },
  {
   "cell_type": "code",
   "execution_count": 11,
   "metadata": {},
   "outputs": [],
   "source": [
    "class CharRNN:\n",
    "    def __init__(self, num_classes, batch_size=64, num_steps=50,\n",
    "                 lstm_size=128, num_layers=2, learning_rate=0.001,\n",
    "                 grad_clip=5, sampling=False):\n",
    "\n",
    "        # 如果sampling是True，则采用SGD\n",
    "        if sampling == True:\n",
    "            batch_size, num_steps = 1, 1\n",
    "        else:\n",
    "            batch_size, num_steps = batch_size, num_steps\n",
    "\n",
    "        tf.reset_default_graph()\n",
    "\n",
    "        # 输入层\n",
    "        self.inputs, self.targets, self.keep_prob = build_inputs(batch_size, num_steps)\n",
    "\n",
    "        # LSTM层\n",
    "        cell, self.initial_state = build_lstm(lstm_size, num_layers, batch_size, self.keep_prob)\n",
    "\n",
    "        # 对输入进行one-hot编码\n",
    "        x_one_hot = tf.one_hot(self.inputs, num_classes)\n",
    "\n",
    "        # 运行RNN\n",
    "        outputs, state = tf.nn.dynamic_rnn(cell, x_one_hot, initial_state=self.initial_state)\n",
    "        self.final_state = state\n",
    "\n",
    "        # 预测结果\n",
    "        self.prediction, self.logits = build_output(outputs, lstm_size, num_classes)\n",
    "\n",
    "        # Loss 和 optimizer (with gradient clipping)\n",
    "        self.loss = build_loss(self.logits, self.targets, lstm_size, num_classes)\n",
    "        self.optimizer = build_optimizer(self.loss, learning_rate, grad_clip)"
   ]
  },
  {
   "cell_type": "code",
   "execution_count": 12,
   "metadata": {},
   "outputs": [],
   "source": [
    "batch_size = 100         # Sequences per batch\n",
    "num_steps = 100          # Number of sequence steps per batch\n",
    "lstm_size = 512         # Size of hidden layers in LSTMs\n",
    "num_layers = 2          # Number of LSTM layers\n",
    "learning_rate = 0.001    # Learning rate\n",
    "keep_prob = 0.5         # Dropout keep probability\n",
    "\n",
    "epochs = 20\n",
    "# 每n轮进行一次变量保存\n",
    "save_every_n = 200"
   ]
  },
  {
   "cell_type": "code",
   "execution_count": 13,
   "metadata": {},
   "outputs": [],
   "source": [
    "model = CharRNN(len(vocab), batch_size=batch_size, num_steps=num_steps,\n",
    "                lstm_size=lstm_size, num_layers=num_layers,\n",
    "                learning_rate=learning_rate)"
   ]
  },
  {
   "cell_type": "code",
   "execution_count": 14,
   "metadata": {},
   "outputs": [],
   "source": [
    "saver = tf.train.Saver(max_to_keep=100)"
   ]
  },
  {
   "cell_type": "code",
   "execution_count": 17,
   "metadata": {},
   "outputs": [
    {
     "name": "stdout",
     "output_type": "stream",
     "text": [
      "arr_a\n [[61 65 40 ...,  1 40 67]\n [40 54 62 ..., 44 23 32]\n [69 50 23 ..., 31 23  6]\n ..., \n [79 72 72 ...,  6 40  3]\n [40  3 32 ..., 72 44 67]\n [62 44 65 ..., 44 65 50]]\n"
     ]
    },
    {
     "name": "stdout",
     "output_type": "stream",
     "text": [
      "轮数: 1/20...  训练步数: 100...  训练误差: 2.6926...  3.4955 sec/batch\n"
     ]
    },
    {
     "name": "stdout",
     "output_type": "stream",
     "text": [
      "arr_a\n [[61 65 40 ...,  1 40 67]\n [40 54 62 ..., 44 23 32]\n [69 50 23 ..., 31 23  6]\n ..., \n [79 72 72 ...,  6 40  3]\n [40  3 32 ..., 72 44 67]\n [62 44 65 ..., 44 65 50]]\n"
     ]
    },
    {
     "name": "stdout",
     "output_type": "stream",
     "text": [
      "轮数: 2/20...  训练步数: 200...  训练误差: 2.2999...  3.4753 sec/batch\n"
     ]
    },
    {
     "name": "stdout",
     "output_type": "stream",
     "text": [
      "轮数: 2/20...  训练步数: 300...  训练误差: 2.1590...  3.5773 sec/batch\n"
     ]
    },
    {
     "name": "stdout",
     "output_type": "stream",
     "text": [
      "arr_a\n [[61 65 40 ...,  1 40 67]\n [40 54 62 ..., 44 23 32]\n [69 50 23 ..., 31 23  6]\n ..., \n [79 72 72 ...,  6 40  3]\n [40  3 32 ..., 72 44 67]\n [62 44 65 ..., 44 65 50]]\n"
     ]
    },
    {
     "name": "stdout",
     "output_type": "stream",
     "text": [
      "轮数: 3/20...  训练步数: 400...  训练误差: 2.0500...  3.5002 sec/batch\n"
     ]
    },
    {
     "name": "stdout",
     "output_type": "stream",
     "text": [
      "轮数: 3/20...  训练步数: 500...  训练误差: 1.9550...  3.8692 sec/batch\n"
     ]
    },
    {
     "name": "stdout",
     "output_type": "stream",
     "text": [
      "arr_a\n [[61 65 40 ...,  1 40 67]\n [40 54 62 ..., 44 23 32]\n [69 50 23 ..., 31 23  6]\n ..., \n [79 72 72 ...,  6 40  3]\n [40  3 32 ..., 72 44 67]\n [62 44 65 ..., 44 65 50]]\n"
     ]
    },
    {
     "name": "stdout",
     "output_type": "stream",
     "text": [
      "轮数: 4/20...  训练步数: 600...  训练误差: 1.8735...  3.9036 sec/batch\n"
     ]
    },
    {
     "name": "stdout",
     "output_type": "stream",
     "text": [
      "轮数: 4/20...  训练步数: 700...  训练误差: 1.8387...  3.6164 sec/batch\n"
     ]
    },
    {
     "name": "stdout",
     "output_type": "stream",
     "text": [
      "arr_a\n [[61 65 40 ...,  1 40 67]\n [40 54 62 ..., 44 23 32]\n [69 50 23 ..., 31 23  6]\n ..., \n [79 72 72 ...,  6 40  3]\n [40  3 32 ..., 72 44 67]\n [62 44 65 ..., 44 65 50]]\n"
     ]
    },
    {
     "name": "stdout",
     "output_type": "stream",
     "text": [
      "轮数: 5/20...  训练步数: 800...  训练误差: 1.7659...  3.6132 sec/batch\n"
     ]
    },
    {
     "name": "stdout",
     "output_type": "stream",
     "text": [
      "轮数: 5/20...  训练步数: 900...  训练误差: 1.7279...  3.5361 sec/batch\n"
     ]
    },
    {
     "name": "stdout",
     "output_type": "stream",
     "text": [
      "arr_a\n [[61 65 40 ...,  1 40 67]\n [40 54 62 ..., 44 23 32]\n [69 50 23 ..., 31 23  6]\n ..., \n [79 72 72 ...,  6 40  3]\n [40  3 32 ..., 72 44 67]\n [62 44 65 ..., 44 65 50]]\n"
     ]
    },
    {
     "name": "stdout",
     "output_type": "stream",
     "text": [
      "轮数: 6/20...  训练步数: 1000...  训练误差: 1.6756...  3.6113 sec/batch\n"
     ]
    },
    {
     "name": "stdout",
     "output_type": "stream",
     "text": [
      "轮数: 6/20...  训练步数: 1100...  训练误差: 1.6514...  3.6547 sec/batch\n"
     ]
    },
    {
     "name": "stdout",
     "output_type": "stream",
     "text": [
      "arr_a\n [[61 65 40 ...,  1 40 67]\n [40 54 62 ..., 44 23 32]\n [69 50 23 ..., 31 23  6]\n ..., \n [79 72 72 ...,  6 40  3]\n [40  3 32 ..., 72 44 67]\n [62 44 65 ..., 44 65 50]]\n"
     ]
    },
    {
     "name": "stdout",
     "output_type": "stream",
     "text": [
      "轮数: 7/20...  训练步数: 1200...  训练误差: 1.5858...  3.9567 sec/batch\n"
     ]
    },
    {
     "name": "stdout",
     "output_type": "stream",
     "text": [
      "轮数: 7/20...  训练步数: 1300...  训练误差: 1.5673...  4.6247 sec/batch\n"
     ]
    },
    {
     "name": "stdout",
     "output_type": "stream",
     "text": [
      "arr_a\n [[61 65 40 ...,  1 40 67]\n [40 54 62 ..., 44 23 32]\n [69 50 23 ..., 31 23  6]\n ..., \n [79 72 72 ...,  6 40  3]\n [40  3 32 ..., 72 44 67]\n [62 44 65 ..., 44 65 50]]\n"
     ]
    },
    {
     "name": "stdout",
     "output_type": "stream",
     "text": [
      "轮数: 8/20...  训练步数: 1400...  训练误差: 1.5696...  3.5623 sec/batch\n"
     ]
    },
    {
     "name": "stdout",
     "output_type": "stream",
     "text": [
      "轮数: 8/20...  训练步数: 1500...  训练误差: 1.4842...  3.4927 sec/batch\n"
     ]
    },
    {
     "name": "stdout",
     "output_type": "stream",
     "text": [
      "arr_a\n [[61 65 40 ...,  1 40 67]\n [40 54 62 ..., 44 23 32]\n [69 50 23 ..., 31 23  6]\n ..., \n [79 72 72 ...,  6 40  3]\n [40  3 32 ..., 72 44 67]\n [62 44 65 ..., 44 65 50]]\n"
     ]
    },
    {
     "name": "stdout",
     "output_type": "stream",
     "text": [
      "轮数: 9/20...  训练步数: 1600...  训练误差: 1.4696...  3.5549 sec/batch\n"
     ]
    }
   ],
   "source": [
    "with tf.Session() as sess:\n",
    "    sess.run(tf.global_variables_initializer())\n",
    "\n",
    "    counter = 0\n",
    "    for e in range(epochs):\n",
    "        # Train network\n",
    "        new_state = sess.run(model.initial_state)\n",
    "        loss = 0\n",
    "        for x, y in generate_bath(encode, batch_size, num_steps):\n",
    "            counter += 1\n",
    "            start = time.time()\n",
    "            feed = {model.inputs: x,\n",
    "                    model.targets: y,\n",
    "                    model.keep_prob: keep_prob,\n",
    "                    model.initial_state: new_state}\n",
    "            batch_loss, new_state, _ = sess.run([model.loss,\n",
    "                                                 model.final_state,\n",
    "                                                 model.optimizer],\n",
    "                                                feed_dict=feed)\n",
    "\n",
    "            end = time.time()\n",
    "            # control the print lines\n",
    "            if counter % 100 == 0:\n",
    "                print('轮数: {}/{}... '.format(e + 1, epochs),\n",
    "                      '训练步数: {}... '.format(counter),\n",
    "                      '训练误差: {:.4f}... '.format(batch_loss),\n",
    "                      '{:.4f} sec/batch'.format((end - start)))\n",
    "\n",
    "            if (counter % save_every_n == 0):\n",
    "                saver.save(sess, \"/Users/li/workshop/MyRepository/DeepNaturalLanguageProcessing/DeepNLP/anna/checkpoints/i{}_l{}.ckpt\".format(counter, lstm_size))\n",
    "\n",
    "    saver.save(sess, \"/Users/li/workshop/MyRepository/DeepNaturalLanguageProcessing/DeepNLP/anna/checkpoints/i{}_l{}.ckpt\".format(counter, lstm_size))"
   ]
  },
  {
   "cell_type": "code",
   "execution_count": null,
   "metadata": {},
   "outputs": [],
   "source": [
    "def pick_top_n(preds, vocab_size, top_n=5):\n",
    "    \"\"\"\n",
    "    从预测结果中选取前top_n个最可能的字符\n",
    "\n",
    "    preds: 预测结果\n",
    "    vocab_size\n",
    "    top_n\n",
    "    \"\"\"\n",
    "    p = np.squeeze(preds)\n",
    "    # 将除了top_n个预测值的位置都置为0\n",
    "    p[np.argsort(p)[:-top_n]] = 0\n",
    "    # 归一化概率\n",
    "    p = p / np.sum(p)\n",
    "    # 随机选取一个字符\n",
    "    c = np.random.choice(vocab_size, 1, p=p)[0]\n",
    "    return c"
   ]
  },
  {
   "cell_type": "code",
   "execution_count": null,
   "metadata": {},
   "outputs": [],
   "source": [
    "def sample(checkpoint, n_samples, lstm_size, vocab_size, prime=\"The \"):\n",
    "    \"\"\"\n",
    "    生成新文本\n",
    "\n",
    "    checkpoint: 某一轮迭代的参数文件\n",
    "    n_sample: 新闻本的字符长度\n",
    "    lstm_size: 隐层结点数\n",
    "    vocab_size\n",
    "    prime: 起始文本\n",
    "    \"\"\"\n",
    "    # 将输入的单词转换为单个字符组成的list\n",
    "    samples = [c for c in prime]\n",
    "    # sampling=True意味着batch的size=1 x 1\n",
    "    model = CharRNN(len(vocab), lstm_size=lstm_size, sampling=True)\n",
    "    saver = tf.train.Saver()\n",
    "    with tf.Session() as sess:\n",
    "        # 加载模型参数，恢复训练\n",
    "        saver.restore(sess, checkpoint)\n",
    "        new_state = sess.run(model.initial_state)\n",
    "        for c in prime:\n",
    "            x = np.zeros((1, 1))\n",
    "            # 输入单个字符\n",
    "            x[0, 0] = vocab_to_int[c]\n",
    "            feed = {model.inputs: x,\n",
    "                    model.keep_prob: 1.,\n",
    "                    model.initial_state: new_state}\n",
    "            preds, new_state = sess.run([model.prediction, model.final_state],\n",
    "                                        feed_dict=feed)\n",
    "\n",
    "        c = pick_top_n(preds, len(vocab))\n",
    "        # 添加字符到samples中\n",
    "        samples.append(int_to_vocab[c])\n",
    "\n",
    "        # 不断生成字符，直到达到指定数目\n",
    "        for i in range(n_samples):\n",
    "            x[0, 0] = c\n",
    "            feed = {model.inputs: x,\n",
    "                    model.keep_prob: 1.,\n",
    "                    model.initial_state: new_state}\n",
    "            preds, new_state = sess.run([model.prediction, model.final_state],\n",
    "                                        feed_dict=feed)\n",
    "\n",
    "            c = pick_top_n(preds, len(vocab))\n",
    "            samples.append(int_to_vocab[c])\n",
    "\n",
    "    return ''.join(samples)"
   ]
  },
  {
   "cell_type": "code",
   "execution_count": null,
   "metadata": {},
   "outputs": [],
   "source": [
    "tf.train.latest_checkpoint('checkpoints')"
   ]
  },
  {
   "cell_type": "code",
   "execution_count": null,
   "metadata": {},
   "outputs": [],
   "source": [
    "# 选用最终的训练参数作为输入进行文本生成\n",
    "checkpoint = tf.train.latest_checkpoint('checkpoints')\n",
    "samp = sample(checkpoint, 2000, lstm_size, len(vocab), prime=\"The\")\n",
    "print(samp)"
   ]
  },
  {
   "cell_type": "code",
   "execution_count": null,
   "metadata": {},
   "outputs": [],
   "source": [
    ""
   ]
  },
  {
   "cell_type": "code",
   "execution_count": null,
   "metadata": {},
   "outputs": [],
   "source": [
    ""
   ]
  }
 ],
 "metadata": {
  "kernelspec": {
   "display_name": "Python 2",
   "language": "python",
   "name": "python2"
  },
  "language_info": {
   "codemirror_mode": {
    "name": "ipython",
    "version": 2
   },
   "file_extension": ".py",
   "mimetype": "text/x-python",
   "name": "python",
   "nbconvert_exporter": "python",
   "pygments_lexer": "ipython2",
   "version": "2.7.6"
  }
 },
 "nbformat": 4,
 "nbformat_minor": 0
}
